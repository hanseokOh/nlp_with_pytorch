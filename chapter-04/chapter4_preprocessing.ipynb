{
 "cells": [
  {
   "cell_type": "markdown",
   "metadata": {},
   "source": [
    "# 4장 전처리"
   ]
  },
  {
   "cell_type": "markdown",
   "metadata": {},
   "source": [
    "## 정규 표현식 사용"
   ]
  },
  {
   "cell_type": "code",
   "execution_count": 2,
   "metadata": {
    "ExecuteTime": {
     "end_time": "2020-01-30T03:00:36.914349Z",
     "start_time": "2020-01-30T03:00:36.909394Z"
    }
   },
   "outputs": [
    {
     "name": "stdout",
     "output_type": "stream",
     "text": [
      "REMOVED\n",
      "CONTENT REMOVED\n"
     ]
    }
   ],
   "source": [
    "import re\n",
    "regex = r\"([\\w]+\\s*:?\\s*)?\\(?\\+?([0-9]{1,3})?\\-?[0-9]{2,3}(\\)|\\-)?[0-9]{3,4}\\-?[0-9]{4}\"\n",
    "\n",
    "x = \"Ki: +82-10-9420-4104\"\n",
    "print(re.sub(regex,\"REMOVED\",x))\n",
    "\n",
    "x = \"CONTENT jiu 02)9420-4104\"\n",
    "print(re.sub(regex,\"REMOVED\",x))"
   ]
  },
  {
   "cell_type": "markdown",
   "metadata": {},
   "source": [
    "## 치환자 사용"
   ]
  },
  {
   "cell_type": "markdown",
   "metadata": {},
   "source": [
    "문제: 알파벳(소문자) 사이에 있는 숫자를 제거하시오."
   ]
  },
  {
   "cell_type": "code",
   "execution_count": 9,
   "metadata": {
    "ExecuteTime": {
     "end_time": "2020-01-30T05:56:11.922303Z",
     "start_time": "2020-01-30T05:56:11.916319Z"
    }
   },
   "outputs": [
    {
     "name": "stdout",
     "output_type": "stream",
     "text": [
      "abcdefg\n",
      "12345\n",
      "ab12\n",
      "abcd\n",
      "12ab\n",
      "ab\n",
      "1a2\n",
      "a1\n",
      "1a\n",
      "hijklmnop\n",
      "\n"
     ]
    }
   ],
   "source": [
    "x= '''abcdefg\n",
    "12345\n",
    "ab12\n",
    "a1bc2d\n",
    "12ab\n",
    "a1b\n",
    "1a2\n",
    "a1\n",
    "1a\n",
    "hijklmnop\n",
    "'''\n",
    "\n",
    "regex = r'([a-z])[0-9]+([a-z])' # 괄호로 묶은 부분은 그룹으로 지정\n",
    "to =r'\\1\\2' # 바뀔 문자열 내에서 역슬래시와 함께 숫자를 이용해 마치 변수명처럼 가리킬 수 있음\n",
    "\n",
    "y = '\\n'.join([re.sub(regex, to, x_i) for x_i in x.split('\\n')])\n",
    "print(y)"
   ]
  },
  {
   "cell_type": "markdown",
   "metadata": {},
   "source": [
    "## 문장 단위 분절 예제"
   ]
  },
  {
   "cell_type": "markdown",
   "metadata": {},
   "source": [
    ">example sentence\n",
    "\n",
    "자연어처리는 인공지능의 한 줄기 입니다. 시퀀스 투 시퀀스의 등장 이후로 딥러닝을 활용한 자연어처리는 새로운 전기를 맞이하게 되었습니다.문장을 받아 단순히 수치로 나타내던 시절을 넘어, 원하는대로 문장을 만들어 낼 수 있게 된 것입니다.\n"
   ]
  },
  {
   "cell_type": "markdown",
   "metadata": {},
   "source": [
    "-> re.sub() 함수가 제대로 동작을 하는 지 확인하기위해서 두번째 문장과 세번째 문장은 온점(.) 다음에 바로 시작하도록 테스트 케이스를 만듦"
   ]
  },
  {
   "cell_type": "code",
   "execution_count": 10,
   "metadata": {
    "ExecuteTime": {
     "end_time": "2020-01-30T07:46:48.445126Z",
     "start_time": "2020-01-30T07:46:40.215140Z"
    }
   },
   "outputs": [
    {
     "name": "stdout",
     "output_type": "stream",
     "text": [
      "자연어처리는 인공지능의 한 줄기 입니다. 시퀀스 투 시퀀스의 등장 이후로 딥러닝을 활용한 자연어처리는 새로운 전기를 맞이하게 되었습니다.문장을 받아 단순히 수치로 나타내던 시절을 넘어, 원하는대로 문장을 만들어 낼 수 있게 된 것입니다.\n",
      "\n",
      "\n",
      "자연어처리는 인공지능의 한 줄기 입니다.\n",
      "시퀀스 투 시퀀스의 등장 이후로 딥러닝을 활용한 자연어처리는 새로운 전기를 맞이하게 되었습니다.\n",
      "문장을 받아 단순히 수치로 나타내던 시절을 넘어, 원하는대로 문장을 만들어 낼 수 있게 된 것입니다.\n"
     ]
    }
   ],
   "source": [
    "# 4.4.1 문장 단위 분절 예제의 변형\n",
    "\n",
    "import re\n",
    "from nltk.tokenize import sent_tokenize\n",
    "\n",
    "line = input()\n",
    "if line.strip() !=\"\":\n",
    "    line = re.sub(r'([가-힣])\\.([가-힣])', r'\\1. \\2', line.strip())  # 문장의 마지막에 쓰인 .을 분리해줌\n",
    "    sentences = sent_tokenize(line.strip()) \n",
    "    print(\"\\n\")\n",
    "    for s in sentences:\n",
    "        if s !=\"\":\n",
    "            print(s)"
   ]
  },
  {
   "cell_type": "markdown",
   "metadata": {},
   "source": [
    "* 의문사항 : 한글 입력을 받았을 때 re.sub() 함수에서 group1, gropu2에 매칭되는 것들이 없지 않을까(교재 121.p 예시) -> 수정돼야할 부분\n",
    "\n",
    "=> 변경 전 : re.sub(r'([a-z])\\.([A-Z])',r'\\1. \\2',line.strip()) \n",
    "\n",
    "=> 변경 후 : re.sub(r'([가-힣])\\.([가-힣])', r'\\1. \\2', line.strip())"
   ]
  },
  {
   "cell_type": "markdown",
   "metadata": {},
   "source": [
    "## 추가) r'\\1 \\2' 에 대해서"
   ]
  },
  {
   "cell_type": "markdown",
   "metadata": {},
   "source": [
    "개인적으로 group에 대한 접근을 의미하는 '\\숫자' 형태에 대해서 이해가 가지 않아서 추가적인 조사 및 실험을 진행합니다."
   ]
  },
  {
   "cell_type": "markdown",
   "metadata": {},
   "source": [
    "<b>re.sub() 함수의 parameter 설명</b>\n",
    "\n",
    "re.sub(pattern, repl, string)\n",
    "\n",
    "default parameter를 제외하고 필수적으로 입력해야하는 parameter는 위의 세 가지이다.\n",
    "\n",
    "1) pattern : 원하는 정규 표현식\n",
    "\n",
    "2) repl : 정규 표현식에 해당하는 것을 어떻게 replace 할 지\n",
    "\n",
    "3) string : 원문 코퍼스"
   ]
  },
  {
   "cell_type": "code",
   "execution_count": 32,
   "metadata": {
    "ExecuteTime": {
     "end_time": "2020-01-30T06:55:37.071150Z",
     "start_time": "2020-01-30T06:55:34.408274Z"
    }
   },
   "outputs": [
    {
     "name": "stdout",
     "output_type": "stream",
     "text": [
      "afsdf1234dsaf\n",
      "result: 1234\n"
     ]
    }
   ],
   "source": [
    "temp = input()\n",
    "a = re.sub(r'([a-z]*)([0-9]+)([a-z]*)',r'\\2',temp) #앞뒤로 영문 소문자가 나타나거나 없을 때 중간의 숫자들만 남김\n",
    "print(\"result:\",a)"
   ]
  },
  {
   "cell_type": "markdown",
   "metadata": {},
   "source": [
    "위의 실험에서 pattern에 해당하는 정규 표현식에는 그룹 1,2,3이 존재한다. \n",
    "\n",
    "1. ([a-z]*)\n",
    "2. ([0-9]+)\n",
    "3. ([a-z]*)\n",
    "\n",
    "repl에 해당하는 param에는 r'\\2'가 들어있다.\n",
    "\n",
    "r은 정규 표현식에서 표현식이 raw string인 것을 나타내는 것이므로 무시한다.\n",
    "\n",
    "\\2은 두 번째 그룹의 값만 남기겠다는 것을 의미한다.\n",
    "\n",
    "=> 여기서 두 번째 그룹은 pattern의 2번 ([0-9]+)을 의미하므로 입력에서 숫자만 남게된다.\n"
   ]
  },
  {
   "cell_type": "markdown",
   "metadata": {},
   "source": [
    "## 문장 합치기 및 분절 예제"
   ]
  },
  {
   "cell_type": "markdown",
   "metadata": {},
   "source": [
    "notebook 형태의 실험을 위해서 코드 변환\n",
    "\n",
    "아래의 입력1~입력4를 input()에 차례대로 넣어준 후 result로 나오는 결과를 통해서 결과 확인\n",
    "\n",
    "마지막 입력 후 한 번 더 끝 등을 입력을 줘야지 마지막 문단까지의 출력을 볼 수 있음\n",
    "\n",
    "exit을 입력하여 while문에서 빠져나옵니다."
   ]
  },
  {
   "cell_type": "markdown",
   "metadata": {},
   "source": [
    "> example sentences\n",
    "\n",
    "입력1: 자연어처리는 인공지능의 한 줄기 입니다. 시퀀스 투 시퀀스의 등장 이후로\n",
    "\n",
    "입력2: 딥러닝을 활용한 자연어처리는 새로운 전기를 맞이하게 되었습니다. 문장을\n",
    "\n",
    "입력3: 받아 단순히 수치로 나타내던 시절을 넘어, 원하는대로 문장을 만들어낼 수\n",
    "\n",
    "입력4: 있게 된 것입니다."
   ]
  },
  {
   "cell_type": "code",
   "execution_count": 11,
   "metadata": {
    "ExecuteTime": {
     "end_time": "2020-01-30T08:29:48.016807Z",
     "start_time": "2020-01-30T08:29:07.680379Z"
    }
   },
   "outputs": [
    {
     "name": "stdout",
     "output_type": "stream",
     "text": [
      "input:\n",
      "자연어처리는 인공지능의 한 줄기 입니다. 시퀀스 투 시퀀스의 등장 이후로\n",
      "\n",
      "\n",
      "result:\n",
      "자연어처리는 인공지능의 한 줄기 입니다.\n",
      "\n",
      "input:\n",
      "딥러닝을 활용한 자연어처리는 새로운 전기를 맞이하게 되었습니다. 문장을\n",
      "\n",
      "\n",
      "result:\n",
      "시퀀스 투 시퀀스의 등장 이후로 딥러닝을 활용한 자연어처리는 새로운 전기를 맞이하게 되었습니다.\n",
      "\n",
      "input:\n",
      "받아 단순히 수치로 나타내던 시절을 넘어, 원하는대로 문장을 만들어낼 수\n",
      "\n",
      "\n",
      "input:\n",
      "있게 된 것입니다.\n",
      "\n",
      "\n",
      "input:\n",
      "끝\n",
      "\n",
      "\n",
      "result:\n",
      "문장을 받아 단순히 수치로 나타내던 시절을 넘어, 원하는대로 문장을 만들어낼 수 있게 된 것입니다.\n",
      "\n",
      "input:\n",
      "exit\n",
      "\n",
      "\n",
      "result:\n",
      "끝\n",
      "\n"
     ]
    }
   ],
   "source": [
    "from nltk.tokenize import sent_tokenize\n",
    "\n",
    "\n",
    "buf =[]\n",
    "while(1):\n",
    "    print(\"input:\")\n",
    "    line = input()\n",
    "    print(\"\\n\")\n",
    "    if line=='exit':\n",
    "        break\n",
    "        \n",
    "    if line.strip() !=\"\":\n",
    "        buf +=[line.strip()]\n",
    "\n",
    "        sentences = sent_tokenize(\" \".join(buf))\n",
    "\n",
    "        \n",
    "        if len(sentences)>1:\n",
    "            buf = sentences[1:]\n",
    "            print(\"result:\")\n",
    "            print(''.join(sentences[0]) +'\\n')\n",
    "\n",
    "print(\"result:\")\n",
    "print(' '.join(buf) + '\\n')"
   ]
  },
  {
   "cell_type": "code",
   "execution_count": null,
   "metadata": {},
   "outputs": [],
   "source": []
  }
 ],
 "metadata": {
  "hide_input": false,
  "kernelspec": {
   "display_name": "Python 3",
   "language": "python",
   "name": "python3"
  },
  "language_info": {
   "codemirror_mode": {
    "name": "ipython",
    "version": 3
   },
   "file_extension": ".py",
   "mimetype": "text/x-python",
   "name": "python",
   "nbconvert_exporter": "python",
   "pygments_lexer": "ipython3",
   "version": "3.7.3"
  },
  "toc": {
   "base_numbering": 1,
   "nav_menu": {},
   "number_sections": true,
   "sideBar": true,
   "skip_h1_title": false,
   "title_cell": "Table of Contents",
   "title_sidebar": "Contents",
   "toc_cell": false,
   "toc_position": {},
   "toc_section_display": true,
   "toc_window_display": false
  },
  "varInspector": {
   "cols": {
    "lenName": 16,
    "lenType": 16,
    "lenVar": 40
   },
   "kernels_config": {
    "python": {
     "delete_cmd_postfix": "",
     "delete_cmd_prefix": "del ",
     "library": "var_list.py",
     "varRefreshCmd": "print(var_dic_list())"
    },
    "r": {
     "delete_cmd_postfix": ") ",
     "delete_cmd_prefix": "rm(",
     "library": "var_list.r",
     "varRefreshCmd": "cat(var_dic_list()) "
    }
   },
   "types_to_exclude": [
    "module",
    "function",
    "builtin_function_or_method",
    "instance",
    "_Feature"
   ],
   "window_display": false
  }
 },
 "nbformat": 4,
 "nbformat_minor": 2
}
