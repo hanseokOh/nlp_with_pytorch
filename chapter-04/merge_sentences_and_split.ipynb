{
 "cells": [
  {
   "cell_type": "markdown",
   "metadata": {},
   "source": [
    "입력1: 자연어처리는 인공지능의 한 줄기 입니다. 시퀀스 투 시퀀스의 등장 이후로\n",
    "\n",
    "입력2: 딥러닝을 활용한 자연어처리는 새로운 전기를 맞이하게 되었습니다. 문장을\n",
    "\n",
    "입력3: 받아 단순히 수치로 나타내던 시절을 넘어, 원하는대로 문장을 만들어낼 수\n",
    "\n",
    "입력4: 있게 된 것입니다."
   ]
  },
  {
   "cell_type": "code",
   "execution_count": 11,
   "metadata": {
    "ExecuteTime": {
     "end_time": "2020-01-30T08:29:48.016807Z",
     "start_time": "2020-01-30T08:29:07.680379Z"
    }
   },
   "outputs": [
    {
     "name": "stdout",
     "output_type": "stream",
     "text": [
      "input:\n",
      "자연어처리는 인공지능의 한 줄기 입니다. 시퀀스 투 시퀀스의 등장 이후로\n",
      "\n",
      "\n",
      "result:\n",
      "자연어처리는 인공지능의 한 줄기 입니다.\n",
      "\n",
      "input:\n",
      "딥러닝을 활용한 자연어처리는 새로운 전기를 맞이하게 되었습니다. 문장을\n",
      "\n",
      "\n",
      "result:\n",
      "시퀀스 투 시퀀스의 등장 이후로 딥러닝을 활용한 자연어처리는 새로운 전기를 맞이하게 되었습니다.\n",
      "\n",
      "input:\n",
      "받아 단순히 수치로 나타내던 시절을 넘어, 원하는대로 문장을 만들어낼 수\n",
      "\n",
      "\n",
      "input:\n",
      "있게 된 것입니다.\n",
      "\n",
      "\n",
      "input:\n",
      "끝\n",
      "\n",
      "\n",
      "result:\n",
      "문장을 받아 단순히 수치로 나타내던 시절을 넘어, 원하는대로 문장을 만들어낼 수 있게 된 것입니다.\n",
      "\n",
      "input:\n",
      "exit\n",
      "\n",
      "\n",
      "result:\n",
      "끝\n",
      "\n"
     ]
    }
   ],
   "source": [
    "from nltk.tokenize import sent_tokenize\n",
    "\n",
    "\n",
    "buf =[]\n",
    "while(1):\n",
    "    print(\"input:\")\n",
    "    line = input()\n",
    "    print(\"\\n\")\n",
    "    if line=='exit':\n",
    "        break\n",
    "        \n",
    "    if line.strip() !=\"\":\n",
    "        buf +=[line.strip()]\n",
    "\n",
    "        sentences = sent_tokenize(\" \".join(buf))\n",
    "\n",
    "        \n",
    "        if len(sentences)>1:\n",
    "            buf = sentences[1:]\n",
    "            print(\"result:\")\n",
    "            print(''.join(sentences[0]) +'\\n')\n",
    "\n",
    "print(\"result:\")\n",
    "print(' '.join(buf) + '\\n')"
   ]
  }
 ],
 "metadata": {
  "hide_input": false,
  "kernelspec": {
   "display_name": "Python 3",
   "language": "python",
   "name": "python3"
  },
  "language_info": {
   "codemirror_mode": {
    "name": "ipython",
    "version": 3
   },
   "file_extension": ".py",
   "mimetype": "text/x-python",
   "name": "python",
   "nbconvert_exporter": "python",
   "pygments_lexer": "ipython3",
   "version": "3.7.3"
  },
  "toc": {
   "base_numbering": 1,
   "nav_menu": {},
   "number_sections": true,
   "sideBar": true,
   "skip_h1_title": false,
   "title_cell": "Table of Contents",
   "title_sidebar": "Contents",
   "toc_cell": false,
   "toc_position": {},
   "toc_section_display": true,
   "toc_window_display": false
  },
  "varInspector": {
   "cols": {
    "lenName": 16,
    "lenType": 16,
    "lenVar": 40
   },
   "kernels_config": {
    "python": {
     "delete_cmd_postfix": "",
     "delete_cmd_prefix": "del ",
     "library": "var_list.py",
     "varRefreshCmd": "print(var_dic_list())"
    },
    "r": {
     "delete_cmd_postfix": ") ",
     "delete_cmd_prefix": "rm(",
     "library": "var_list.r",
     "varRefreshCmd": "cat(var_dic_list()) "
    }
   },
   "types_to_exclude": [
    "module",
    "function",
    "builtin_function_or_method",
    "instance",
    "_Feature"
   ],
   "window_display": false
  }
 },
 "nbformat": 4,
 "nbformat_minor": 2
}
