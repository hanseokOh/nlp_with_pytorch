{
 "cells": [
  {
   "cell_type": "markdown",
   "metadata": {
    "colab_type": "text",
    "id": "rJzpv1g08sQk"
   },
   "source": [
    "# How to Install"
   ]
  },
  {
   "cell_type": "markdown",
   "metadata": {
    "colab_type": "text",
    "id": "mU-z7YGS8x5k"
   },
   "source": [
    "## Using Make"
   ]
  },
  {
   "cell_type": "code",
   "execution_count": 0,
   "metadata": {
    "colab": {},
    "colab_type": "code",
    "id": "XkrdHF-n8zim"
   },
   "outputs": [],
   "source": [
    "!git clone https://github.com/facebookresearch/fastText.git\n",
    "%cd fastText\n",
    "!mkdir build && cd build && cmake ..\n",
    "!make && make install"
   ]
  },
  {
   "cell_type": "markdown",
   "metadata": {
    "colab_type": "text",
    "id": "9aGLPpCj88pX"
   },
   "source": [
    "## Using Pip"
   ]
  },
  {
   "cell_type": "code",
   "execution_count": 2,
   "metadata": {
    "colab": {
     "base_uri": "https://localhost:8080/",
     "height": 318
    },
    "colab_type": "code",
    "id": "aDyKU3Ny9AiK",
    "outputId": "7cd574c2-4e43-4b36-eb8f-d2cc50d83f85"
   },
   "outputs": [
    {
     "name": "stdout",
     "output_type": "stream",
     "text": [
      "fatal: destination path 'fastText' already exists and is not an empty directory.\n",
      "/content/fastText\n",
      "Processing /content/fastText\n",
      "Requirement already satisfied: pybind11>=2.2 in /usr/local/lib/python3.6/dist-packages (from fasttext==0.9.1) (2.4.3)\n",
      "Requirement already satisfied: setuptools>=0.7.0 in /usr/local/lib/python3.6/dist-packages (from fasttext==0.9.1) (45.1.0)\n",
      "Requirement already satisfied: numpy in /usr/local/lib/python3.6/dist-packages (from fasttext==0.9.1) (1.17.5)\n",
      "Building wheels for collected packages: fasttext\n",
      "  Building wheel for fasttext (setup.py) ... \u001b[?25l\u001b[?25hdone\n",
      "  Created wheel for fasttext: filename=fasttext-0.9.1-cp36-cp36m-linux_x86_64.whl size=2856267 sha256=750fe9665f3543269054a1b01a93eb859aeaa1d434aee79125a27e5043ed3280\n",
      "  Stored in directory: /tmp/pip-ephem-wheel-cache-pb87x5p2/wheels/a1/9f/52/696ce6c5c46325e840c76614ee5051458c0df10306987e7443\n",
      "Successfully built fasttext\n",
      "Installing collected packages: fasttext\n",
      "  Found existing installation: fasttext 0.9.1\n",
      "    Uninstalling fasttext-0.9.1:\n",
      "      Successfully uninstalled fasttext-0.9.1\n",
      "Successfully installed fasttext-0.9.1\n"
     ]
    }
   ],
   "source": [
    "!git clone https://github.com/facebookresearch/fastText.git\n",
    "%cd fastText\n",
    "!pip install ."
   ]
  },
  {
   "cell_type": "markdown",
   "metadata": {
    "colab_type": "text",
    "id": "jFwKHBlH-wSc"
   },
   "source": [
    "https://github.com/facebookresearch/fastText/tree/master/python"
   ]
  },
  {
   "cell_type": "code",
   "execution_count": 8,
   "metadata": {
    "colab": {
     "base_uri": "https://localhost:8080/",
     "height": 263
    },
    "colab_type": "code",
    "id": "RIXlzSIhAXvh",
    "outputId": "5bc1a722-af94-4e34-ff16-22cf29b1cb30"
   },
   "outputs": [
    {
     "name": "stdout",
     "output_type": "stream",
     "text": [
      "alignment\t\t   eval.py\t\t    quantmatrix.o\n",
      "args.o\t\t\t   fasttext\t\t    README.md\n",
      "autotune.o\t\t   fasttext.o\t\t    reduce_model.py\n",
      "build\t\t\t   get-wikimedia.sh\t    runtests.py\n",
      "classification-example.sh  LICENSE\t\t    scripts\n",
      "classification-results.sh  loss.o\t\t    setup.cfg\n",
      "CMakeLists.txt\t\t   Makefile\t\t    setup.py\n",
      "CODE_OF_CONDUCT.md\t   MANIFEST.in\t\t    src\n",
      "CONTRIBUTING.md\t\t   matrix.o\t\t    tests\n",
      "crawl\t\t\t   meter.o\t\t    utils.o\n",
      "densematrix.o\t\t   model.o\t\t    vector.o\n",
      "dictionary.o\t\t   productquantizer.o\t    website\n",
      "docs\t\t\t   python\t\t    wikifil.pl\n",
      "download_model.py\t   quantization-example.sh  word-vector-example.sh\n"
     ]
    }
   ],
   "source": [
    "!ls"
   ]
  },
  {
   "cell_type": "code",
   "execution_count": 9,
   "metadata": {
    "colab": {
     "base_uri": "https://localhost:8080/",
     "height": 351
    },
    "colab_type": "code",
    "id": "O4oSr4It_EZG",
    "outputId": "0a37c76f-0609-430c-e044-325415730683"
   },
   "outputs": [
    {
     "name": "stdout",
     "output_type": "stream",
     "text": [
      "usage: fasttext <command> <args>\n",
      "\n",
      "The commands supported by fasttext are:\n",
      "\n",
      "  supervised              train a supervised classifier\n",
      "  quantize                quantize a model to reduce the memory usage\n",
      "  test                    evaluate a supervised classifier\n",
      "  test-label              print labels with precision and recall scores\n",
      "  predict                 predict most likely labels\n",
      "  predict-prob            predict most likely labels with probabilities\n",
      "  skipgram                train a skipgram model\n",
      "  cbow                    train a cbow model\n",
      "  print-word-vectors      print word vectors given a trained model\n",
      "  print-sentence-vectors  print sentence vectors given a trained model\n",
      "  print-ngrams            print ngrams given a trained model and word\n",
      "  nn                      query for nearest neighbors\n",
      "  analogies               query for analogies\n",
      "  dump                    dump arguments,dictionary,input/output vectors\n",
      "\n"
     ]
    }
   ],
   "source": [
    "! ./fasttext"
   ]
  },
  {
   "cell_type": "markdown",
   "metadata": {
    "colab_type": "text",
    "id": "Wg4H0tiDB6ks"
   },
   "source": [
    "> 예시파일 사용 (chapter-05 폴더에서 사용가능)\n",
    "\n",
    "ted.aligned.ko.refined.tok.random-10k.txt"
   ]
  },
  {
   "cell_type": "code",
   "execution_count": 0,
   "metadata": {
    "colab": {},
    "colab_type": "code",
    "id": "gLwCJjNEBbps"
   },
   "outputs": [],
   "source": [
    "!mv ../ted.aligned.ko.refined.tok.random-10k.txt ./fastText/"
   ]
  },
  {
   "cell_type": "code",
   "execution_count": 17,
   "metadata": {
    "colab": {
     "base_uri": "https://localhost:8080/",
     "height": 213
    },
    "colab_type": "code",
    "id": "a1vFB2o_Bx3u",
    "outputId": "e4d6835c-dbe9-4799-887a-a9969d2b39ff"
   },
   "outputs": [
    {
     "name": "stdout",
     "output_type": "stream",
     "text": [
      "그래서 두 번 째 더 큰 문제 를 야기 하 죠 . 그것 은 바로 자선 단체 들 이 간접비 를 낮추 는 것 에 만 몰두 하 여 성장 에 꼭 필요 한 비용 의 지출 없이 운영 되 게 한다는 것 입니다 . \n",
      "감사 합니다 . \n",
      "오비완 케노비 와 글 린다 그 둘 의 공통점 은 무엇 일까요 ? \n",
      "하지만 , 진실 은 자연 은 죽음 에 능숙 하 다는 것 입니다 . \n",
      "이 후보 는 페르시아 어로 \" 불멸 \" 을 뜻 한다고 합니다 . \n",
      "그 이유 는 바로 - 바로 잠깐 만 요 . \n",
      "그 사건 을 겪 었 을 때 , 말 그대로 , 우리 의 삶 에 정말 끔찍 한 충격 이 었 음 에 도 불구 하 고 , 우리 는 복수심 을 가지 지 않 았 습니다 . \n",
      "하지만 우리 애 들 같 은 애 들 은 애시당초 선물 로 주어진 운명 이 아니 에요 . \n",
      "소위 신경 - 조율기 를 만드 는 회사 를 차려서 , 간질 뿐 만 아니 라 다른 뇌 질환 들 을 치료 하 고자 한 거 죠 , 왜냐하면 비록 전부 는 아니 라고 해도 많 은 수 의 뇌 질환 들 이 어떠 한 전기 적 인 기능 이상 에서 비롯 된 것 이 기 때문 입니다 . \n",
      "좋 아요 , 이제 이걸 켜 보 죠 . \n"
     ]
    }
   ],
   "source": [
    "!head ./ted.aligned.ko.refined.tok.random-10k.txt"
   ]
  },
  {
   "cell_type": "code",
   "execution_count": 19,
   "metadata": {
    "colab": {
     "base_uri": "https://localhost:8080/",
     "height": 125
    },
    "colab_type": "code",
    "id": "ODHo4SW3B4Nq",
    "outputId": "3443986a-7af8-4c4b-ec78-4389b970a26c"
   },
   "outputs": [
    {
     "name": "stdout",
     "output_type": "stream",
     "text": [
      "\r",
      "Read 0M words\n",
      "Number of words:  3589\n",
      "Number of labels: 0\n",
      "tcmalloc: large alloc 2051678208 bytes == 0x561a9a410000 @  0x7f433aad3887 0x561a90ab47bd 0x561a90abefae 0x561a90ac6e39 0x561a90aceb07 0x561a90a89887 0x7f4339b70b97 0x561a90a89b4a\n",
      "Progress: 100.0% words/sec/thread:   16775 lr:  0.000000 avg.loss:  1.866741 ETA:   0h 0m 0s\n"
     ]
    }
   ],
   "source": [
    "!./fasttext skipgram -input ./ted.aligned.ko.refined.tok.random-10k.txt -output ko.tok -dim 256 -epoch 100 -minCount 5"
   ]
  },
  {
   "cell_type": "markdown",
   "metadata": {},
   "source": [
    "input 파일을 받아서, 코퍼스 내에서 5번 이상 출현한 단어(토큰)들을 대상으로 100 에폭을 훈련하고, 256차원의 단어 임베딩 벡터를 훈련하여 output 파일의 이름으로 prefix를 출력"
   ]
  },
  {
   "cell_type": "code",
   "execution_count": 22,
   "metadata": {
    "colab": {
     "base_uri": "https://localhost:8080/",
     "height": 248
    },
    "colab_type": "code",
    "id": "fdcW-7kgCQ6t",
    "outputId": "8bd84f78-463e-4806-aae5-c3e636c2970e"
   },
   "outputs": [
    {
     "name": "stdout",
     "output_type": "stream",
     "text": [
      "tcmalloc: large alloc 2051678208 bytes == 0x5560a442a000 @  0x7f8db1c5c887 0x5560a252250f 0x5560a252db56 0x5560a252e171 0x5560a253a7b8 0x5560a24f7a34 0x7f8db0cf9b97 0x5560a24f7b4a\n",
      "Query word? 해결 0.529297\n",
      "중대 0.291612\n",
      "문제점 0.279834\n",
      "맞서 0.271453\n",
      "직면 0.271201\n",
      "끼치 0.262429\n",
      "외교 0.261172\n",
      "해결책 0.259722\n",
      "보건 0.25928\n",
      "이념 0.257909\n",
      "Query word? "
     ]
    }
   ],
   "source": [
    "!echo '문제' |./fasttext nn ./ko.tok.bin 10 "
   ]
  },
  {
   "cell_type": "markdown",
   "metadata": {},
   "source": [
    "> echo\n",
    "\n",
    "리눅스 명령어 echo는 주어진 문자열을, 문자열 사이에 포함된 공백과 줄 마지막에 개행문자를 포함하여 표준출력으로 출력하는 명령어다.\n",
    "\n",
    "> fasttext nn\n",
    "\n",
    "usage: fasttext nn model k\n",
    "\n",
    "  - model:       model filename\n",
    "    \n",
    "  - k:          (optional; 10 by default) predict top k labels\n",
    "\n",
    "\n",
    "> ko.tok.bin\n",
    "\n",
    "단어 임베딩 벡터를 만들어낼 수 있는 모델 가중치 파라미터가 저장되어있음 "
   ]
  },
  {
   "cell_type": "code",
   "execution_count": 26,
   "metadata": {
    "colab": {
     "base_uri": "https://localhost:8080/",
     "height": 72
    },
    "colab_type": "code",
    "id": "q8PxKyOaC7Py",
    "outputId": "2a0ec422-4fe6-48e8-c7a4-e0a9dd4d873d"
   },
   "outputs": [
    {
     "name": "stdout",
     "output_type": "stream",
     "text": [
      "3589 256\n",
      ". 0.099709 -0.12977 -0.092145 -0.080117 0.16212 -0.036828 0.17806 -0.13274 0.1399 0.06461 -0.08788 -0.014969 0.14691 0.11365 -0.054112 -0.086743 0.054881 -0.086964 -0.063398 0.11163 -0.11075 0.12331 -0.024892 -0.039508 -0.038539 -0.014912 0.0025025 -0.13014 0.022039 -0.08894 -0.050238 0.048772 -0.044517 0.048394 -0.073134 -0.043766 -0.027431 -0.13493 -0.021209 0.09925 -0.050397 -0.056778 0.0079637 -0.087111 0.11574 0.22862 -0.042378 0.061112 0.059309 -0.09937 0.040092 0.054842 -0.07144 0.058521 -0.0012897 -2.419e-05 -0.022784 0.035752 -0.03994 0.10359 -0.068315 0.05421 0.072043 -0.1006 0.031757 0.21052 -0.074922 0.049367 0.16019 0.00038653 0.14933 -0.037007 -0.0012787 -0.085726 0.10895 -0.051872 0.021029 0.099919 -0.13449 0.071357 0.0097531 0.047706 0.038341 -0.048722 -0.010169 -0.18434 0.1831 0.077502 -0.13733 0.13678 0.069959 -0.043422 0.030771 -0.026233 -0.021984 0.023041 -0.041048 -0.14928 -0.083035 0.016882 -0.040694 -0.042738 -0.081567 -0.023564 -0.16121 0.084031 -0.02754 0.11333 0.034061 0.12181 -0.078285 -0.011706 0.034258 -0.049047 -0.007203 -0.10548 -0.031901 -0.16522 -0.079789 0.15577 -0.024845 -0.03261 0.0091228 -0.1066 0.060068 0.047001 -0.01957 0.031371 0.10039 -0.029194 0.13892 -0.012428 0.0083141 -0.029977 -0.073856 -0.020049 0.10845 -0.026112 0.20381 -0.15404 -0.10703 -0.1273 -0.14214 -0.25389 -0.096595 -0.057263 0.10749 -0.047429 0.032139 0.068532 0.020617 -0.12157 -0.014192 -0.10566 -0.00448 0.17827 -0.044174 -0.00095253 0.098941 -0.15028 0.16587 0.011254 -0.071942 0.086963 0.099429 0.010462 0.11663 0.0048565 0.11222 0.10099 0.065754 -0.01214 0.12816 -0.047371 -0.05367 -0.21053 -0.092742 0.01531 -0.018795 -0.017251 -0.048611 0.13235 -0.0045306 -0.092883 0.027189 0.043504 -0.0050156 0.1257 -0.081756 0.068731 0.11824 0.050862 -0.00079628 0.017998 0.10951 0.038278 0.079325 -0.11084 0.021097 -0.11028 -0.057836 -0.13134 0.14072 0.034596 0.013277 0.075585 -0.089253 0.019101 0.089119 0.021772 -0.041564 -0.074037 0.081077 -0.054114 -0.072593 -0.037005 -0.045046 -0.045753 -0.050528 -0.060989 0.17321 0.035759 -0.011399 0.11116 -0.0082428 -0.099956 0.049449 -0.038526 -0.078345 0.046298 0.09738 -0.043594 -0.089122 -0.060529 -0.099422 0.13073 0.049638 0.11227 -0.17893 -0.078837 0.042359 0.086598 -0.044124 -0.020239 -0.049149 0.033392 -0.046401 -0.024088 -0.020229 -0.014559 0.1876 -0.02977 -0.053555 -0.049837 -0.079725 0.065462 \n"
     ]
    }
   ],
   "source": [
    "!head -n 2 ./ko.tok.vec"
   ]
  },
  {
   "cell_type": "markdown",
   "metadata": {},
   "source": [
    "> ko.tok.vec \n",
    "\n",
    "라인별로 단어와 임베딩 벡터가 차례대로 들어 있음"
   ]
  },
  {
   "cell_type": "code",
   "execution_count": null,
   "metadata": {},
   "outputs": [],
   "source": []
  }
 ],
 "metadata": {
  "colab": {
   "name": "word_embedding_vector_exercise.ipynb",
   "provenance": []
  },
  "hide_input": false,
  "kernelspec": {
   "display_name": "Python 3",
   "language": "python",
   "name": "python3"
  },
  "language_info": {
   "codemirror_mode": {
    "name": "ipython",
    "version": 3
   },
   "file_extension": ".py",
   "mimetype": "text/x-python",
   "name": "python",
   "nbconvert_exporter": "python",
   "pygments_lexer": "ipython3",
   "version": "3.7.3"
  },
  "toc": {
   "base_numbering": 1,
   "nav_menu": {},
   "number_sections": true,
   "sideBar": true,
   "skip_h1_title": false,
   "title_cell": "Table of Contents",
   "title_sidebar": "Contents",
   "toc_cell": false,
   "toc_position": {},
   "toc_section_display": true,
   "toc_window_display": false
  },
  "varInspector": {
   "cols": {
    "lenName": 16,
    "lenType": 16,
    "lenVar": 40
   },
   "kernels_config": {
    "python": {
     "delete_cmd_postfix": "",
     "delete_cmd_prefix": "del ",
     "library": "var_list.py",
     "varRefreshCmd": "print(var_dic_list())"
    },
    "r": {
     "delete_cmd_postfix": ") ",
     "delete_cmd_prefix": "rm(",
     "library": "var_list.r",
     "varRefreshCmd": "cat(var_dic_list()) "
    }
   },
   "types_to_exclude": [
    "module",
    "function",
    "builtin_function_or_method",
    "instance",
    "_Feature"
   ],
   "window_display": false
  }
 },
 "nbformat": 4,
 "nbformat_minor": 1
}
